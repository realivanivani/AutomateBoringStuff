{
 "cells": [
  {
   "cell_type": "markdown",
   "id": "d46386e2",
   "metadata": {},
   "source": [
    "### Downloading a Web Page with the requests.get() Function"
   ]
  },
  {
   "cell_type": "code",
   "execution_count": 1,
   "id": "6b140e2f",
   "metadata": {},
   "outputs": [],
   "source": [
    "import requests"
   ]
  },
  {
   "cell_type": "code",
   "execution_count": 5,
   "id": "c5c135ea",
   "metadata": {},
   "outputs": [
    {
     "data": {
      "text/plain": [
       "requests.models.Response"
      ]
     },
     "execution_count": 5,
     "metadata": {},
     "output_type": "execute_result"
    }
   ],
   "source": [
    "res = requests.get('https://automatetheboringstuff.com/files/rj.txt')\n",
    "type(res)"
   ]
  },
  {
   "cell_type": "markdown",
   "id": "a75539a2",
   "metadata": {},
   "source": [
    "You can tell that the request for this web page succeeded by checking the status_code attribute of the Response object. If it is equal to the value of requests.codes.ok, then everything went fine. (Incidentally, the status code for “OK” in the HTTP protocol is 200. You may already be familiar with the 404 status code for “Not Found.”) You can find a complete list of HTTP status codes and their meanings at https://en.wikipedia.org/wiki/List_of_HTTP_status_codes."
   ]
  },
  {
   "cell_type": "code",
   "execution_count": 6,
   "id": "953da290",
   "metadata": {},
   "outputs": [
    {
     "data": {
      "text/plain": [
       "True"
      ]
     },
     "execution_count": 6,
     "metadata": {},
     "output_type": "execute_result"
    }
   ],
   "source": [
    "res.status_code == requests.codes.ok"
   ]
  },
  {
   "cell_type": "markdown",
   "id": "820f817a",
   "metadata": {},
   "source": [
    "If the request succeeded, the downloaded web page is stored as a string in the Response object’s text variable. This variable holds a large string of the entire play; the call to len(res.text) shows you that it is more than 178,000 characters long. Finally, calling print(res.text[:250]) displays only the first 250 characters."
   ]
  },
  {
   "cell_type": "code",
   "execution_count": 7,
   "id": "28e8dd2a",
   "metadata": {},
   "outputs": [
    {
     "name": "stdout",
     "output_type": "stream",
     "text": [
      "The Project Gutenberg EBook of Romeo and Juliet, by William Shakespeare\r\n",
      "\r\n",
      "This eBook is for the use of anyone anywhere at no cost and with\r\n",
      "almost no restrictions whatsoever.  You may copy it, give it away or\r\n",
      "re-use it under the terms of the Projec\n"
     ]
    }
   ],
   "source": [
    "len(res.text)\n",
    "print(res.text[:250])"
   ]
  },
  {
   "cell_type": "markdown",
   "id": "80fddfc0",
   "metadata": {},
   "source": [
    "#### Saving Downloaded Files to the Hard Drive"
   ]
  },
  {
   "cell_type": "markdown",
   "id": "f3511a64",
   "metadata": {},
   "source": [
    "To write the web page to a file, you can use a for loop with the Response object’s iter_content() method."
   ]
  },
  {
   "cell_type": "markdown",
   "id": "c9a1078a",
   "metadata": {},
   "source": [
    "To review, here’s the complete process for downloading and saving a file:\n",
    "\n",
    "1. Call requests.get() to download the file.\n",
    "2. Call open() with 'wb' to create a new file in write binary mode.\n",
    "3. Loop over the Response object’s iter_content() method.\n",
    "4. Call write() on each iteration to write the content to the file.\n",
    "5. Call close() to close the file.    "
   ]
  },
  {
   "cell_type": "code",
   "execution_count": 8,
   "id": "918f19d2",
   "metadata": {},
   "outputs": [],
   "source": [
    "import requests\n",
    "res = requests.get('https://automatetheboringstuff.com/files/rj.txt')\n",
    "res.raise_for_status()\n",
    "playFile = open('RomeoAndJuliet.txt', 'wb')\n",
    "for chunk in res.iter_content(100000):\n",
    "    playFile.write(chunk)\n",
    "\n",
    "playFile.close()"
   ]
  },
  {
   "cell_type": "markdown",
   "id": "615d5275",
   "metadata": {},
   "source": [
    "The iter_content() method returns “chunks” of the content on each iteration through the loop. Each chunk is of the bytes data type, and you get to specify how many bytes each chunk will contain. One hundred thousand bytes is generally a good size, so pass 100000 as the argument to iter_content()."
   ]
  },
  {
   "cell_type": "markdown",
   "id": "d0744d2f",
   "metadata": {},
   "source": [
    "### HMTL"
   ]
  },
  {
   "cell_type": "markdown",
   "id": "cdec860c",
   "metadata": {},
   "source": [
    "Use the Developer Tools to Find HTML Elements"
   ]
  },
  {
   "cell_type": "markdown",
   "id": "5cea6336",
   "metadata": {},
   "source": [
    "#### Parsing HTML with the bs4 Module"
   ]
  },
  {
   "cell_type": "markdown",
   "id": "ad608682",
   "metadata": {},
   "source": [
    "The bs4.BeautifulSoup() function needs to be called with a string containing the HTML it will parse. The bs4.BeautifulSoup() function returns a BeautifulSoup object."
   ]
  },
  {
   "cell_type": "code",
   "execution_count": 9,
   "id": "03d7df21",
   "metadata": {},
   "outputs": [
    {
     "data": {
      "text/plain": [
       "bs4.BeautifulSoup"
      ]
     },
     "execution_count": 9,
     "metadata": {},
     "output_type": "execute_result"
    }
   ],
   "source": [
    "import requests, bs4\n",
    "res = requests.get('https://nostarch.com')\n",
    "res.raise_for_status()\n",
    "noStarchSoup = bs4.BeautifulSoup(res.text, 'html.parser')\n",
    "type(noStarchSoup)"
   ]
  },
  {
   "cell_type": "markdown",
   "id": "aa67f424",
   "metadata": {},
   "source": [
    "#### Finding an Element with the select() Method"
   ]
  },
  {
   "cell_type": "markdown",
   "id": "bda3e0ac",
   "metadata": {},
   "source": [
    "there’s a good selector tutorial in the resources at https://nostarch.com/automatestuff2/), but here’s a short introduction to selectors:"
   ]
  },
  {
   "cell_type": "markdown",
   "id": "3a0cdd59",
   "metadata": {},
   "source": [
    "\n",
    "Selector passed to the select() method:\n",
    "\n",
    "\n",
    "    soup.select('div')              All elements named <div>\n",
    "\n",
    "    soup.select('#author')          The element with an id attribute of author\n",
    "\n",
    "    soup.select('.notice')          All elements that use a CSS class attribute named notice\n",
    "\n",
    "    soup.select('div span')         All elements named < span > that are within an element named < div >\n",
    "\n",
    "    soup.select('div > span')       All elements named < span > that are directly within an element named < div >, with no other element in between\n",
    "\n",
    "    soup.select('input[name]')      All elements named < input > that have a name attribute with any value\n",
    "\n",
    "    soup.select('input[type=\"button\"]') All elements named < input > that have an attribute named type with value button"
   ]
  },
  {
   "cell_type": "code",
   "execution_count": null,
   "id": "d6c54d21",
   "metadata": {},
   "outputs": [],
   "source": []
  },
  {
   "cell_type": "code",
   "execution_count": null,
   "id": "2a6f6119",
   "metadata": {},
   "outputs": [],
   "source": []
  }
 ],
 "metadata": {
  "kernelspec": {
   "display_name": "Python 3 (ipykernel)",
   "language": "python",
   "name": "python3"
  },
  "language_info": {
   "codemirror_mode": {
    "name": "ipython",
    "version": 3
   },
   "file_extension": ".py",
   "mimetype": "text/x-python",
   "name": "python",
   "nbconvert_exporter": "python",
   "pygments_lexer": "ipython3",
   "version": "3.11.5"
  }
 },
 "nbformat": 4,
 "nbformat_minor": 5
}
